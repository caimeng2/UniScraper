{
 "cells": [
  {
   "cell_type": "code",
   "execution_count": null,
   "metadata": {
    "ExecuteTime": {
     "end_time": "2021-04-25T20:25:29.659778Z",
     "start_time": "2021-04-25T20:25:19.551205Z"
    }
   },
   "outputs": [],
   "source": [
    "from Uniscraper.Uniscraper import uniscraper"
   ]
  },
  {
   "cell_type": "markdown",
   "metadata": {},
   "source": [
    "## Collect text from a webpage"
   ]
  },
  {
   "cell_type": "markdown",
   "metadata": {},
   "source": [
    "### Static webpage"
   ]
  },
  {
   "cell_type": "code",
   "execution_count": null,
   "metadata": {
    "ExecuteTime": {
     "end_time": "2021-04-16T18:44:44.896747Z",
     "start_time": "2021-04-16T18:44:27.437245Z"
    }
   },
   "outputs": [],
   "source": [
    "url = \"https://www.canr.msu.edu/people/meng-cai\"\n",
    "webpage = uniscraper(url)\n",
    "webpage.text"
   ]
  },
  {
   "cell_type": "markdown",
   "metadata": {},
   "source": [
    "### Dynamic webpage"
   ]
  },
  {
   "cell_type": "code",
   "execution_count": null,
   "metadata": {
    "ExecuteTime": {
     "end_time": "2021-04-16T18:45:04.939213Z",
     "start_time": "2021-04-16T18:44:44.901500Z"
    },
    "scrolled": true
   },
   "outputs": [],
   "source": [
    "dynamic_url = \"https://careernetwork.msu.edu/outcomes/\"\n",
    "dynamic_webpage = uniscraper(dynamic_url)\n",
    "dynamic_webpage.text"
   ]
  },
  {
   "cell_type": "markdown",
   "metadata": {},
   "source": [
    "### Pdf file"
   ]
  },
  {
   "cell_type": "code",
   "execution_count": null,
   "metadata": {
    "ExecuteTime": {
     "end_time": "2021-04-16T18:45:11.361373Z",
     "start_time": "2021-04-16T18:45:04.953120Z"
    },
    "scrolled": true
   },
   "outputs": [],
   "source": [
    "pdf_url = \"https://www.canr.msu.edu/spdc/uploads/files/student_services/degrees/phd/2018PDC_PhDDegree_Handbook_SPDC_WCAG2.0_June2018.pdf\"\n",
    "pdf_webpage = uniscraper(pdf_url)\n",
    "pdf_webpage.text"
   ]
  },
  {
   "cell_type": "markdown",
   "metadata": {},
   "source": [
    "### Presentation slide"
   ]
  },
  {
   "cell_type": "code",
   "execution_count": null,
   "metadata": {
    "ExecuteTime": {
     "end_time": "2021-04-16T18:45:12.303905Z",
     "start_time": "2021-04-16T18:45:11.367790Z"
    },
    "scrolled": false
   },
   "outputs": [],
   "source": [
    "pptx_url = \"https://grad.msu.edu/sites/default/files/content/researchintegrity/IntellectualProperty.pptx\"\n",
    "pptx_webpage = uniscraper(pptx_url)\n",
    "pptx_webpage.text"
   ]
  },
  {
   "cell_type": "markdown",
   "metadata": {},
   "source": [
    "### Spreadsheet"
   ]
  },
  {
   "cell_type": "code",
   "execution_count": null,
   "metadata": {
    "ExecuteTime": {
     "end_time": "2021-04-16T18:45:12.877648Z",
     "start_time": "2021-04-16T18:45:12.311298Z"
    }
   },
   "outputs": [],
   "source": [
    "xlsx_url = \"https://oiss.isp.msu.edu/index.php/download_file/view/966/273/\"\n",
    "xlsx_webpage = uniscraper(xlsx_url)\n",
    "xlsx_webpage.text"
   ]
  },
  {
   "cell_type": "markdown",
   "metadata": {},
   "source": [
    "### Word document"
   ]
  },
  {
   "cell_type": "code",
   "execution_count": null,
   "metadata": {
    "ExecuteTime": {
     "end_time": "2021-04-16T18:45:13.599819Z",
     "start_time": "2021-04-16T18:45:12.884587Z"
    }
   },
   "outputs": [],
   "source": [
    "word_url = \"http://vprgs.msu.edu/msu-services-agreement-form\"\n",
    "word_webpage = uniscraper(word_url)\n",
    "word_webpage.text"
   ]
  },
  {
   "cell_type": "markdown",
   "metadata": {},
   "source": [
    "## Find a keyword in text"
   ]
  },
  {
   "cell_type": "code",
   "execution_count": null,
   "metadata": {
    "ExecuteTime": {
     "end_time": "2021-04-16T18:45:13.612397Z",
     "start_time": "2021-04-16T18:45:13.605251Z"
    }
   },
   "outputs": [],
   "source": [
    "webpage.search(\"caimeng2@msu.edu\")"
   ]
  },
  {
   "cell_type": "code",
   "execution_count": null,
   "metadata": {
    "ExecuteTime": {
     "end_time": "2021-04-16T18:45:13.650681Z",
     "start_time": "2021-04-16T18:45:13.626033Z"
    }
   },
   "outputs": [],
   "source": [
    "pdf_webpage.search(\"urban planning\")"
   ]
  }
 ],
 "metadata": {
  "kernelspec": {
   "display_name": "Python 3",
   "language": "python",
   "name": "python3"
  },
  "language_info": {
   "codemirror_mode": {
    "name": "ipython",
    "version": 3
   },
   "file_extension": ".py",
   "mimetype": "text/x-python",
   "name": "python",
   "nbconvert_exporter": "python",
   "pygments_lexer": "ipython3",
   "version": "3.9.7"
  },
  "toc": {
   "base_numbering": 1,
   "nav_menu": {},
   "number_sections": false,
   "sideBar": true,
   "skip_h1_title": false,
   "title_cell": "Table of Contents",
   "title_sidebar": "Contents",
   "toc_cell": false,
   "toc_position": {},
   "toc_section_display": true,
   "toc_window_display": true
  },
  "varInspector": {
   "cols": {
    "lenName": 16,
    "lenType": 16,
    "lenVar": 40
   },
   "kernels_config": {
    "python": {
     "delete_cmd_postfix": "",
     "delete_cmd_prefix": "del ",
     "library": "var_list.py",
     "varRefreshCmd": "print(var_dic_list())"
    },
    "r": {
     "delete_cmd_postfix": ") ",
     "delete_cmd_prefix": "rm(",
     "library": "var_list.r",
     "varRefreshCmd": "cat(var_dic_list()) "
    }
   },
   "types_to_exclude": [
    "module",
    "function",
    "builtin_function_or_method",
    "instance",
    "_Feature"
   ],
   "window_display": false
  }
 },
 "nbformat": 4,
 "nbformat_minor": 4
}
