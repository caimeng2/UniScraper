{
 "cells": [
  {
   "cell_type": "code",
   "execution_count": 4,
   "metadata": {
    "ExecuteTime": {
     "end_time": "2021-04-14T17:54:47.886741Z",
     "start_time": "2021-04-14T17:54:47.880816Z"
    }
   },
   "outputs": [],
   "source": [
    "from Uniscraper import uniscraper"
   ]
  },
  {
   "cell_type": "code",
   "execution_count": 2,
   "metadata": {
    "ExecuteTime": {
     "end_time": "2021-04-14T17:54:43.166787Z",
     "start_time": "2021-04-14T17:54:25.991328Z"
    }
   },
   "outputs": [],
   "source": [
    "url = \"https://www.canr.msu.edu/people/meng-cai\"\n",
    "webpage = uniscraper(url)"
   ]
  },
  {
   "cell_type": "code",
   "execution_count": 3,
   "metadata": {
    "ExecuteTime": {
     "end_time": "2021-04-14T17:54:43.193836Z",
     "start_time": "2021-04-14T17:54:43.170252Z"
    }
   },
   "outputs": [
    {
     "data": {
      "text/plain": [
       "'                    Menu          Search   Search              School of Planning, Design and Construction          About  News  Programs  Research & Outreach  Students  Education Abroad  Trainings  Events  Giving                 Menu    School of Planning, Design and Construction      Meng Cai      caimeng2@msu.edu    School of Planning, Design and Construction  Graduate Student, Urban and Regional Planning    Area of Expertise:  Urban sustainability, autonomous vehicles, smart cities, computational social science, sustainable development goals   Major professor:  Eva Kassens-Noor                      follow us on Youtube  follow us on Twitter  follow us on facebook  follow us on instagram  join us on LinkedIn          Call us: 517-432-0704  Contact Information  Sitemap  Accessibility  Privacy  Disclaimer    Call MSU: (517) 355-1855  Visit: msu.edu  MSU is an affirmative-action, equal-opportunity employer.  Notice of Nondiscrimination    Spartans Will .  © Michigan State University                MSU is an affirmative-action, equal-opportunity employer, committed to achieving excellence through a diverse workforce and inclusive culture that encourages all people to reach their full potential.  Michigan State University Extension programs and materials are open to all without regard to race, color, national origin, gender, gender identity, religion, age, height, weight, disability, political beliefs, sexual orientation, marital status, family status or veteran status. Issued in furtherance of MSU Extension work, acts of May 8 and June 30, 1914, in cooperation with the U.S. Department of Agriculture. Patrick I. Cudney, Acting Director, MSU Extension, East Lansing, MI 48824. This information is for educational purposes only. Reference to commercial products or trade names does not imply endorsement by MSU Extension or bias against those not mentioned.  The 4-H Name and Emblem have special protections from Congress, protected by code 18 USC 707.  We comply with the Federal Trade Commission 1998 Children’s Online Privacy Protection Act (COPPA) .                              Share content on your favorite social media platforms Meng Cai https://www.canr.msu.edu/people/meng-cai Facebook Twitter Google Linkedin Pinterest Tumblr Xing Reddit VK StumbleUpon Print Email'"
      ]
     },
     "execution_count": 3,
     "metadata": {},
     "output_type": "execute_result"
    }
   ],
   "source": [
    "webpage.text"
   ]
  },
  {
   "cell_type": "code",
   "execution_count": null,
   "metadata": {},
   "outputs": [],
   "source": []
  }
 ],
 "metadata": {
  "kernelspec": {
   "display_name": "Python 3",
   "language": "python",
   "name": "python3"
  },
  "language_info": {
   "codemirror_mode": {
    "name": "ipython",
    "version": 3
   },
   "file_extension": ".py",
   "mimetype": "text/x-python",
   "name": "python",
   "nbconvert_exporter": "python",
   "pygments_lexer": "ipython3",
   "version": "3.8.3"
  },
  "toc": {
   "base_numbering": 1,
   "nav_menu": {},
   "number_sections": true,
   "sideBar": true,
   "skip_h1_title": false,
   "title_cell": "Table of Contents",
   "title_sidebar": "Contents",
   "toc_cell": false,
   "toc_position": {},
   "toc_section_display": true,
   "toc_window_display": false
  },
  "varInspector": {
   "cols": {
    "lenName": 16,
    "lenType": 16,
    "lenVar": 40
   },
   "kernels_config": {
    "python": {
     "delete_cmd_postfix": "",
     "delete_cmd_prefix": "del ",
     "library": "var_list.py",
     "varRefreshCmd": "print(var_dic_list())"
    },
    "r": {
     "delete_cmd_postfix": ") ",
     "delete_cmd_prefix": "rm(",
     "library": "var_list.r",
     "varRefreshCmd": "cat(var_dic_list()) "
    }
   },
   "types_to_exclude": [
    "module",
    "function",
    "builtin_function_or_method",
    "instance",
    "_Feature"
   ],
   "window_display": false
  }
 },
 "nbformat": 4,
 "nbformat_minor": 4
}
