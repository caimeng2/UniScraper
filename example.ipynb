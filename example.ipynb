{
 "cells": [
  {
   "cell_type": "code",
   "execution_count": 1,
   "metadata": {
    "ExecuteTime": {
     "end_time": "2021-04-14T20:19:08.173948Z",
     "start_time": "2021-04-14T20:19:01.590681Z"
    }
   },
   "outputs": [
    {
     "name": "stderr",
     "output_type": "stream",
     "text": [
      "[WDM] - ====== WebDriver manager ======\n"
     ]
    },
    {
     "name": "stdout",
     "output_type": "stream",
     "text": [
      "\n",
      "\n"
     ]
    },
    {
     "name": "stderr",
     "output_type": "stream",
     "text": [
      "[WDM] - Current google-chrome version is 89.0.4389\n",
      "[WDM] - Get LATEST driver version for 89.0.4389\n",
      "[WDM] - Driver [/Users/mengcai/.wdm/drivers/chromedriver/mac64/89.0.4389.23/chromedriver] found in cache\n"
     ]
    }
   ],
   "source": [
    "from Uniscraper.Uniscraper import uniscraper"
   ]
  },
  {
   "cell_type": "code",
   "execution_count": 2,
   "metadata": {
    "ExecuteTime": {
     "end_time": "2021-04-14T20:19:26.510668Z",
     "start_time": "2021-04-14T20:19:09.125610Z"
    }
   },
   "outputs": [],
   "source": [
    "url = \"https://www.canr.msu.edu/people/meng-cai\"\n",
    "webpage = uniscraper(url)"
   ]
  },
  {
   "cell_type": "code",
   "execution_count": 3,
   "metadata": {
    "ExecuteTime": {
     "end_time": "2021-04-14T20:19:27.364493Z",
     "start_time": "2021-04-14T20:19:27.347804Z"
    }
   },
   "outputs": [
    {
     "data": {
      "text/plain": [
       "'                    Menu          Search   Search              School of Planning, Design and Construction          About  News  Programs  Research & Outreach  Students  Education Abroad  Trainings  Events  Giving                 Menu    School of Planning, Design and Construction      Meng Cai      caimeng2@msu.edu    School of Planning, Design and Construction  Graduate Student, Urban and Regional Planning    Area of Expertise:  Urban sustainability, autonomous vehicles, smart cities, computational social science, sustainable development goals   Major professor:  Eva Kassens-Noor                      follow us on Youtube  follow us on Twitter  follow us on facebook  follow us on instagram  join us on LinkedIn          Call us: 517-432-0704  Contact Information  Sitemap  Accessibility  Privacy  Disclaimer    Call MSU: (517) 355-1855  Visit: msu.edu  MSU is an affirmative-action, equal-opportunity employer.  Notice of Nondiscrimination    Spartans Will .  © Michigan State University                MSU is an affirmative-action, equal-opportunity employer, committed to achieving excellence through a diverse workforce and inclusive culture that encourages all people to reach their full potential.  Michigan State University Extension programs and materials are open to all without regard to race, color, national origin, gender, gender identity, religion, age, height, weight, disability, political beliefs, sexual orientation, marital status, family status or veteran status. Issued in furtherance of MSU Extension work, acts of May 8 and June 30, 1914, in cooperation with the U.S. Department of Agriculture. Patrick I. Cudney, Acting Director, MSU Extension, East Lansing, MI 48824. This information is for educational purposes only. Reference to commercial products or trade names does not imply endorsement by MSU Extension or bias against those not mentioned.  The 4-H Name and Emblem have special protections from Congress, protected by code 18 USC 707.  We comply with the Federal Trade Commission 1998 Children’s Online Privacy Protection Act (COPPA) .                              Share content on your favorite social media platforms Meng Cai https://www.canr.msu.edu/people/meng-cai Facebook Twitter Google Linkedin Pinterest Tumblr Xing Reddit VK StumbleUpon Print Email'"
      ]
     },
     "execution_count": 3,
     "metadata": {},
     "output_type": "execute_result"
    }
   ],
   "source": [
    "webpage.text"
   ]
  },
  {
   "cell_type": "code",
   "execution_count": 5,
   "metadata": {
    "ExecuteTime": {
     "end_time": "2021-04-14T20:19:55.072637Z",
     "start_time": "2021-04-14T20:19:55.063189Z"
    }
   },
   "outputs": [
    {
     "data": {
      "text/plain": [
       "'                     menu          search   search              school of planning, design and construction          about  news  programs  research & outreach  students  education abroad  trainings  events  giving                 menu    school of planning, design and construction      meng cai      caimeng2@msu.edu    school of planning, design and construction  graduate student, urban and regional planning    area of expertise:  urban sustainability, autonomous vehicles, smart cities, computational social science, sustainable development goals   major professor:  eva kassens-noor                      follow us on youtube  follow us on twitter  follow us on facebook  follow us on instagram  join us on linkedin          call us: 517-432-0704  contact information  sitemap  accessibility  privacy  disclaimer    call msu: (517) 355-1855  visit: msu.edu  msu is an affirmative-action, equal-opportunity employer.  notice of nondiscrimination    spartans will .  © michigan state university                msu is an affirmative-action, equal-opportunity employer, committed to achieving excellence through a diverse workforce and inclusive culture that encourages all people to reach their full potential.  michigan state university extension programs and materials are open to all without regard to race, color, national origin, gender, gender identity, religion, age, height, weight, disability, political beliefs, sexual orientation, marital status, family status or veteran status. issued in furtherance of msu extension work, acts of may 8 and june 30, 1914, in cooperation with the u.s. department of agriculture. patrick i. cudney, acting director, msu extension, east lansing, mi 48824. this information is for educational purposes only. reference to commercial products or trade names does not imply endorsement by msu extension or bias against those not mentioned.  the 4-h name and emblem have special protections from congress, protected by code 18 usc 707.  we comply with the federal trade commission 1998 children’s online privacy protection act (coppa) .                              share content on your favorite social media platforms meng cai https://www.canr.msu.edu/people/meng-cai facebook twitter google linkedin pinterest tumblr xing reddit vk stumbleupon print email'"
      ]
     },
     "execution_count": 5,
     "metadata": {},
     "output_type": "execute_result"
    }
   ],
   "source": [
    "webpage.search(\"caimeng2@msu.edu\")"
   ]
  },
  {
   "cell_type": "code",
   "execution_count": null,
   "metadata": {},
   "outputs": [],
   "source": []
  }
 ],
 "metadata": {
  "kernelspec": {
   "display_name": "Python 3",
   "language": "python",
   "name": "python3"
  },
  "language_info": {
   "codemirror_mode": {
    "name": "ipython",
    "version": 3
   },
   "file_extension": ".py",
   "mimetype": "text/x-python",
   "name": "python",
   "nbconvert_exporter": "python",
   "pygments_lexer": "ipython3",
   "version": "3.8.3"
  },
  "toc": {
   "base_numbering": 1,
   "nav_menu": {},
   "number_sections": true,
   "sideBar": true,
   "skip_h1_title": false,
   "title_cell": "Table of Contents",
   "title_sidebar": "Contents",
   "toc_cell": false,
   "toc_position": {},
   "toc_section_display": true,
   "toc_window_display": false
  },
  "varInspector": {
   "cols": {
    "lenName": 16,
    "lenType": 16,
    "lenVar": 40
   },
   "kernels_config": {
    "python": {
     "delete_cmd_postfix": "",
     "delete_cmd_prefix": "del ",
     "library": "var_list.py",
     "varRefreshCmd": "print(var_dic_list())"
    },
    "r": {
     "delete_cmd_postfix": ") ",
     "delete_cmd_prefix": "rm(",
     "library": "var_list.r",
     "varRefreshCmd": "cat(var_dic_list()) "
    }
   },
   "types_to_exclude": [
    "module",
    "function",
    "builtin_function_or_method",
    "instance",
    "_Feature"
   ],
   "window_display": false
  }
 },
 "nbformat": 4,
 "nbformat_minor": 4
}
